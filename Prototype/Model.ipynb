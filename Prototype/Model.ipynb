{
 "cells": [
  {
   "cell_type": "code",
   "execution_count": 1,
   "id": "dbbf33a6",
   "metadata": {},
   "outputs": [],
   "source": [
    "import pandas as pd\n",
    "import gensim.downloader as api\n",
    "\n",
    "# Import the datasets\n",
    "\n",
    "schedDf = pd.read_csv('CE Input/Prototype Schedule Input.csv')\n",
    "bomDf = pd.read_csv('CE Input/Prototype Materials Input.csv')\n",
    "\n",
    "# Import the word model\n",
    "model = api.load(\"word2vec-google-news-300\")"
   ]
  },
  {
   "cell_type": "code",
   "execution_count": null,
   "id": "af3edcc9",
   "metadata": {},
   "outputs": [],
   "source": [
    "# Feature Modelling\n",
    "\n",
    "bomDf.dropna(subset=['Activity Description'], inplace=True)\n",
    "schedDf.dropna(subset=['Activity Description'], inplace=True)\n"
   ]
  }
 ],
 "metadata": {
  "kernelspec": {
   "display_name": "Python 3 (ipykernel)",
   "language": "python",
   "name": "python3"
  },
  "language_info": {
   "codemirror_mode": {
    "name": "ipython",
    "version": 3
   },
   "file_extension": ".py",
   "mimetype": "text/x-python",
   "name": "python",
   "nbconvert_exporter": "python",
   "pygments_lexer": "ipython3",
   "version": "3.11.5"
  }
 },
 "nbformat": 4,
 "nbformat_minor": 5
}
