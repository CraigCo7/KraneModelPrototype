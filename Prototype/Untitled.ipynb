{
 "cells": [
  {
   "cell_type": "code",
   "execution_count": 1,
   "id": "f238c10c",
   "metadata": {},
   "outputs": [
    {
     "name": "stderr",
     "output_type": "stream",
     "text": [
      "2023-11-22 17:15:04.069507: I tensorflow/core/platform/cpu_feature_guard.cc:182] This TensorFlow binary is optimized to use available CPU instructions in performance-critical operations.\n",
      "To enable the following instructions: AVX2 FMA, in other operations, rebuild TensorFlow with the appropriate compiler flags.\n"
     ]
    }
   ],
   "source": [
    "# Assuming you have TensorFlow and Keras installed\n",
    "import numpy as np\n",
    "import tensorflow as tf\n",
    "from sklearn.model_selection import train_test_split\n",
    "from sklearn.metrics import mean_squared_error\n",
    "import matplotlib.pyplot as plt"
   ]
  },
  {
   "cell_type": "code",
   "execution_count": 2,
   "id": "3a93c2b9",
   "metadata": {},
   "outputs": [
    {
     "name": "stdout",
     "output_type": "stream",
     "text": [
      "[0.37454012 0.95071431 0.73199394 0.59865848 0.15601864 0.15599452\n",
      " 0.05808361 0.86617615 0.60111501 0.70807258 0.02058449 0.96990985\n",
      " 0.83244264 0.21233911 0.18182497 0.18340451 0.30424224 0.52475643\n",
      " 0.43194502 0.29122914 0.61185289 0.13949386 0.29214465 0.36636184\n",
      " 0.45606998 0.78517596 0.19967378 0.51423444 0.59241457 0.04645041\n",
      " 0.60754485 0.17052412 0.06505159 0.94888554 0.96563203 0.80839735\n",
      " 0.30461377 0.09767211 0.68423303 0.44015249 0.12203823 0.49517691\n",
      " 0.03438852 0.9093204  0.25877998 0.66252228 0.31171108 0.52006802\n",
      " 0.54671028 0.18485446]\n",
      "[1.68938281 2.66239818 2.42276581 2.28866434 1.36580027 1.35480767\n",
      " 1.08816789 2.60444922 2.25375946 2.33271697 1.25957866 2.99687043\n",
      " 2.60682045 1.3635397  1.35435551 1.34285883 1.72016786 2.06815448\n",
      " 1.79072686 1.77150235 2.22863662 1.35587169 1.52346665 1.76903525\n",
      " 1.94325097 2.38138699 1.60087508 2.15753332 2.14510961 0.98267385\n",
      " 2.24984587 1.34971802 1.16567008 2.91692881 2.98188817 2.76152527\n",
      " 1.66603786 1.09037868 2.50472234 2.04436644 1.55928214 1.87800442\n",
      " 1.09306524 2.61043093 1.57287488 2.27022454 1.81576673 1.96267455\n",
      " 1.92450225 1.32258254]\n"
     ]
    }
   ],
   "source": [
    "# Generate some example data\n",
    "np.random.seed(42)\n",
    "# Replace this with your actual input data (word vectors)\n",
    "x = np.random.rand(100, 50)  # Assuming 50-dimensional word vectors\n",
    "# Replace this with your actual output data\n",
    "y = 2 * x + 1 + 0.1 * np.random.randn(100, 50)\n",
    "\n",
    "print(x[0])\n",
    "\n",
    "print(y[0])"
   ]
  },
  {
   "cell_type": "code",
   "execution_count": 3,
   "id": "d25ac20c",
   "metadata": {},
   "outputs": [],
   "source": [
    "# Split the data into training and testing sets\n",
    "x_train, x_test, y_train, y_test = train_test_split(\n",
    "    x, y, test_size=0.2, random_state=42)"
   ]
  },
  {
   "cell_type": "code",
   "execution_count": 4,
   "id": "fc3b2209",
   "metadata": {},
   "outputs": [],
   "source": [
    "# Define the model\n",
    "model = tf.keras.Sequential([\n",
    "    # Adjust input shape based on your word vector dimensions\n",
    "    tf.keras.layers.Dense(64, activation='relu', input_shape=(50,)),\n",
    "    # Adjust output dimensions based on your desired output\n",
    "    tf.keras.layers.Dense(50)\n",
    "])\n",
    "\n",
    "# Compile the model\n",
    "model.compile(optimizer='adam', loss='mean_squared_error')"
   ]
  },
  {
   "cell_type": "code",
   "execution_count": 5,
   "id": "c8a938cf",
   "metadata": {},
   "outputs": [
    {
     "name": "stdout",
     "output_type": "stream",
     "text": [
      "Epoch 1/50\n",
      "5/5 [==============================] - 1s 40ms/step - loss: 4.2550 - val_loss: 3.8945\n",
      "Epoch 2/50\n",
      "5/5 [==============================] - 0s 7ms/step - loss: 3.7618 - val_loss: 3.4242\n",
      "Epoch 3/50\n",
      "5/5 [==============================] - 0s 9ms/step - loss: 3.2790 - val_loss: 2.9462\n",
      "Epoch 4/50\n",
      "5/5 [==============================] - 0s 8ms/step - loss: 2.7698 - val_loss: 2.4362\n",
      "Epoch 5/50\n",
      "5/5 [==============================] - 0s 10ms/step - loss: 2.2307 - val_loss: 1.9081\n",
      "Epoch 6/50\n",
      "5/5 [==============================] - 0s 10ms/step - loss: 1.7045 - val_loss: 1.4153\n",
      "Epoch 7/50\n",
      "5/5 [==============================] - 0s 9ms/step - loss: 1.2479 - val_loss: 1.0322\n",
      "Epoch 8/50\n",
      "5/5 [==============================] - 0s 9ms/step - loss: 0.9193 - val_loss: 0.7825\n",
      "Epoch 9/50\n",
      "5/5 [==============================] - 0s 7ms/step - loss: 0.7136 - val_loss: 0.6280\n",
      "Epoch 10/50\n",
      "5/5 [==============================] - 0s 6ms/step - loss: 0.5848 - val_loss: 0.5178\n",
      "Epoch 11/50\n",
      "5/5 [==============================] - 0s 7ms/step - loss: 0.4897 - val_loss: 0.4421\n",
      "Epoch 12/50\n",
      "5/5 [==============================] - 0s 6ms/step - loss: 0.4309 - val_loss: 0.4044\n",
      "Epoch 13/50\n",
      "5/5 [==============================] - 0s 7ms/step - loss: 0.4034 - val_loss: 0.3902\n",
      "Epoch 14/50\n",
      "5/5 [==============================] - 0s 7ms/step - loss: 0.3914 - val_loss: 0.3838\n",
      "Epoch 15/50\n",
      "5/5 [==============================] - 0s 8ms/step - loss: 0.3831 - val_loss: 0.3783\n",
      "Epoch 16/50\n",
      "5/5 [==============================] - 0s 7ms/step - loss: 0.3766 - val_loss: 0.3757\n",
      "Epoch 17/50\n",
      "5/5 [==============================] - 0s 7ms/step - loss: 0.3716 - val_loss: 0.3756\n",
      "Epoch 18/50\n",
      "5/5 [==============================] - 0s 8ms/step - loss: 0.3680 - val_loss: 0.3745\n",
      "Epoch 19/50\n",
      "5/5 [==============================] - 0s 7ms/step - loss: 0.3649 - val_loss: 0.3739\n",
      "Epoch 20/50\n",
      "5/5 [==============================] - 0s 6ms/step - loss: 0.3618 - val_loss: 0.3726\n",
      "Epoch 21/50\n",
      "5/5 [==============================] - 0s 7ms/step - loss: 0.3592 - val_loss: 0.3709\n",
      "Epoch 22/50\n",
      "5/5 [==============================] - 0s 7ms/step - loss: 0.3565 - val_loss: 0.3690\n",
      "Epoch 23/50\n",
      "5/5 [==============================] - 0s 6ms/step - loss: 0.3540 - val_loss: 0.3674\n",
      "Epoch 24/50\n",
      "5/5 [==============================] - 0s 6ms/step - loss: 0.3513 - val_loss: 0.3652\n",
      "Epoch 25/50\n",
      "5/5 [==============================] - 0s 6ms/step - loss: 0.3488 - val_loss: 0.3631\n",
      "Epoch 26/50\n",
      "5/5 [==============================] - 0s 6ms/step - loss: 0.3463 - val_loss: 0.3611\n",
      "Epoch 27/50\n",
      "5/5 [==============================] - 0s 7ms/step - loss: 0.3437 - val_loss: 0.3591\n",
      "Epoch 28/50\n",
      "5/5 [==============================] - 0s 7ms/step - loss: 0.3413 - val_loss: 0.3572\n",
      "Epoch 29/50\n",
      "5/5 [==============================] - 0s 7ms/step - loss: 0.3385 - val_loss: 0.3561\n",
      "Epoch 30/50\n",
      "5/5 [==============================] - 0s 6ms/step - loss: 0.3358 - val_loss: 0.3547\n",
      "Epoch 31/50\n",
      "5/5 [==============================] - 0s 11ms/step - loss: 0.3332 - val_loss: 0.3528\n",
      "Epoch 32/50\n",
      "5/5 [==============================] - 0s 7ms/step - loss: 0.3307 - val_loss: 0.3504\n",
      "Epoch 33/50\n",
      "5/5 [==============================] - 0s 6ms/step - loss: 0.3282 - val_loss: 0.3488\n",
      "Epoch 34/50\n",
      "5/5 [==============================] - 0s 7ms/step - loss: 0.3256 - val_loss: 0.3474\n",
      "Epoch 35/50\n",
      "5/5 [==============================] - 0s 7ms/step - loss: 0.3229 - val_loss: 0.3459\n",
      "Epoch 36/50\n",
      "5/5 [==============================] - 0s 6ms/step - loss: 0.3203 - val_loss: 0.3439\n",
      "Epoch 37/50\n",
      "5/5 [==============================] - 0s 7ms/step - loss: 0.3177 - val_loss: 0.3422\n",
      "Epoch 38/50\n",
      "5/5 [==============================] - 0s 8ms/step - loss: 0.3150 - val_loss: 0.3403\n",
      "Epoch 39/50\n",
      "5/5 [==============================] - 0s 8ms/step - loss: 0.3124 - val_loss: 0.3388\n",
      "Epoch 40/50\n",
      "5/5 [==============================] - 0s 7ms/step - loss: 0.3100 - val_loss: 0.3371\n",
      "Epoch 41/50\n",
      "5/5 [==============================] - 0s 7ms/step - loss: 0.3072 - val_loss: 0.3353\n",
      "Epoch 42/50\n",
      "5/5 [==============================] - 0s 7ms/step - loss: 0.3047 - val_loss: 0.3337\n",
      "Epoch 43/50\n",
      "5/5 [==============================] - 0s 7ms/step - loss: 0.3019 - val_loss: 0.3316\n",
      "Epoch 44/50\n",
      "5/5 [==============================] - 0s 6ms/step - loss: 0.2994 - val_loss: 0.3296\n",
      "Epoch 45/50\n",
      "5/5 [==============================] - 0s 7ms/step - loss: 0.2965 - val_loss: 0.3279\n",
      "Epoch 46/50\n",
      "5/5 [==============================] - 0s 7ms/step - loss: 0.2941 - val_loss: 0.3261\n",
      "Epoch 47/50\n",
      "5/5 [==============================] - 0s 6ms/step - loss: 0.2913 - val_loss: 0.3246\n",
      "Epoch 48/50\n",
      "5/5 [==============================] - 0s 7ms/step - loss: 0.2889 - val_loss: 0.3232\n",
      "Epoch 49/50\n",
      "5/5 [==============================] - 0s 6ms/step - loss: 0.2863 - val_loss: 0.3214\n",
      "Epoch 50/50\n",
      "5/5 [==============================] - 0s 7ms/step - loss: 0.2837 - val_loss: 0.3193\n"
     ]
    },
    {
     "data": {
      "text/plain": [
       "<keras.src.callbacks.History at 0x144f98550>"
      ]
     },
     "execution_count": 5,
     "metadata": {},
     "output_type": "execute_result"
    }
   ],
   "source": [
    "# Train the model\n",
    "model.fit(x_train, y_train, epochs=50, batch_size=16,\n",
    "          validation_data=(x_test, y_test))"
   ]
  },
  {
   "cell_type": "code",
   "execution_count": 6,
   "id": "193c36f1",
   "metadata": {},
   "outputs": [
    {
     "name": "stdout",
     "output_type": "stream",
     "text": [
      "1/1 [==============================] - 0s 73ms/step\n",
      "Mean Squared Error: 0.3193329634406466\n"
     ]
    },
    {
     "data": {
      "image/png": "[encoded data removed]",
      "text/plain": [
       "<Figure size 640x480 with 1 Axes>"
      ]
     },
     "metadata": {},
     "output_type": "display_data"
    }
   ],
   "source": [
    "# Evaluate the model\n",
    "y_pred = model.predict(x_test)\n",
    "mse = mean_squared_error(y_test, y_pred)\n",
    "print(f'Mean Squared Error: {mse}')\n",
    "\n",
    "# Visualize the results (you might need to adjust based on the dimensionality of your vectors)\n",
    "plt.scatter(x_test[:, 0], y_test[:, 0], color='black', label='Actual')\n",
    "plt.scatter(x_test[:, 0], y_pred[:, 0], color='red', label='Predicted')\n",
    "plt.xlabel('Input Word Vector Dimension 1')\n",
    "plt.ylabel('Output Word Vector Dimension 1')\n",
    "plt.title('Mapping from Word Vectors to Word Vectors')\n",
    "plt.legend()\n",
    "plt.show()"
   ]
  },
  {
   "cell_type": "code",
   "execution_count": null,
   "id": "4c144a35",
   "metadata": {},
   "outputs": [],
   "source": []
  }
 ],
 "metadata": {
  "kernelspec": {
   "display_name": "Python 3 (ipykernel)",
   "language": "python",
   "name": "python3"
  },
  "language_info": {
   "codemirror_mode": {
    "name": "ipython",
    "version": 3
   },
   "file_extension": ".py",
   "mimetype": "text/x-python",
   "name": "python",
   "nbconvert_exporter": "python",
   "pygments_lexer": "ipython3",
   "version": "3.11.5"
  }
 },
 "nbformat": 4,
 "nbformat_minor": 5
}
